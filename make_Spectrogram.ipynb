{
 "cells": [
  {
   "cell_type": "code",
   "execution_count": 2,
   "id": "f5acba44",
   "metadata": {},
   "outputs": [],
   "source": [
    "import pandas as pd\n",
    "import numpy as np\n",
    "import os\n",
    "import shutil\n",
    "from tqdm import tqdm\n",
    "from glob import glob\n",
    "import librosa\n",
    "import warnings\n",
    "import pickle\n",
    "\n",
    "warnings.filterwarnings(\"ignore\")\n",
    "\n",
    "def save_dict_as_txt(d):\n",
    "    f = open('./Spectrogram/naming.txt', 'w')\n",
    "    for key, value in d.items():\n",
    "        f.write(f'{key} : {value} \\n')\n",
    "    f.close()\n",
    "\n",
    "def find_name():\n",
    "    with open('./Spectrogram/naming.pickle', 'rb') as fr:\n",
    "        naming = pickle.load(fr)\n",
    "    current_list = sorted(list(naming.keys()))\n",
    "    new_name = current_list[-1] + 1\n",
    "    return new_name\n",
    "\n",
    "def add_name(name: int, description: str):\n",
    "    with open('./Spectrogram/naming.pickle', 'rb') as fr:\n",
    "        naming = pickle.load(fr)\n",
    "    assert name not in naming, f\"already naming.pickle has {name}!\"\n",
    "    naming[name] = description\n",
    "    with open('./Spectrogram/naming.pickle','wb') as fw:\n",
    "        pickle.dump(naming, fw)\n",
    "    save_dict_as_txt(naming)\n",
    "        \n",
    "def delete_name(name: int):\n",
    "    with open('./Spectrogram/naming.pickle', 'rb') as fr:\n",
    "        naming = pickle.load(fr)\n",
    "    assert name in naming, f\"naming.pickle has not {name}!\"\n",
    "    del naming[name]\n",
    "    with open('./Spectrogram/naming.pickle','wb') as fw:\n",
    "        pickle.dump(naming, fw)\n",
    "    save_dict_as_txt(naming)"
   ]
  },
  {
   "cell_type": "markdown",
   "id": "2cf5a7f1",
   "metadata": {},
   "source": [
    "## 0.naive / 1. shuffle "
   ]
  },
  {
   "cell_type": "code",
   "execution_count": 2,
   "id": "3016bc70",
   "metadata": {},
   "outputs": [
    {
     "data": {
      "text/html": [
       "<div>\n",
       "<style scoped>\n",
       "    .dataframe tbody tr th:only-of-type {\n",
       "        vertical-align: middle;\n",
       "    }\n",
       "\n",
       "    .dataframe tbody tr th {\n",
       "        vertical-align: top;\n",
       "    }\n",
       "\n",
       "    .dataframe thead th {\n",
       "        text-align: right;\n",
       "    }\n",
       "</style>\n",
       "<table border=\"1\" class=\"dataframe\">\n",
       "  <thead>\n",
       "    <tr style=\"text-align: right;\">\n",
       "      <th></th>\n",
       "      <th>id</th>\n",
       "      <th>africa</th>\n",
       "      <th>australia</th>\n",
       "      <th>canada</th>\n",
       "      <th>england</th>\n",
       "      <th>hongkong</th>\n",
       "      <th>us</th>\n",
       "    </tr>\n",
       "  </thead>\n",
       "  <tbody>\n",
       "    <tr>\n",
       "      <th>0</th>\n",
       "      <td>1</td>\n",
       "      <td>0</td>\n",
       "      <td>0</td>\n",
       "      <td>0</td>\n",
       "      <td>0</td>\n",
       "      <td>0</td>\n",
       "      <td>0</td>\n",
       "    </tr>\n",
       "    <tr>\n",
       "      <th>1</th>\n",
       "      <td>2</td>\n",
       "      <td>0</td>\n",
       "      <td>0</td>\n",
       "      <td>0</td>\n",
       "      <td>0</td>\n",
       "      <td>0</td>\n",
       "      <td>0</td>\n",
       "    </tr>\n",
       "    <tr>\n",
       "      <th>2</th>\n",
       "      <td>3</td>\n",
       "      <td>0</td>\n",
       "      <td>0</td>\n",
       "      <td>0</td>\n",
       "      <td>0</td>\n",
       "      <td>0</td>\n",
       "      <td>0</td>\n",
       "    </tr>\n",
       "    <tr>\n",
       "      <th>3</th>\n",
       "      <td>4</td>\n",
       "      <td>0</td>\n",
       "      <td>0</td>\n",
       "      <td>0</td>\n",
       "      <td>0</td>\n",
       "      <td>0</td>\n",
       "      <td>0</td>\n",
       "    </tr>\n",
       "    <tr>\n",
       "      <th>4</th>\n",
       "      <td>5</td>\n",
       "      <td>0</td>\n",
       "      <td>0</td>\n",
       "      <td>0</td>\n",
       "      <td>0</td>\n",
       "      <td>0</td>\n",
       "      <td>0</td>\n",
       "    </tr>\n",
       "  </tbody>\n",
       "</table>\n",
       "</div>"
      ],
      "text/plain": [
       "   id  africa  australia  canada  england  hongkong  us\n",
       "0   1       0          0       0        0         0   0\n",
       "1   2       0          0       0        0         0   0\n",
       "2   3       0          0       0        0         0   0\n",
       "3   4       0          0       0        0         0   0\n",
       "4   5       0          0       0        0         0   0"
      ]
     },
     "execution_count": 2,
     "metadata": {},
     "output_type": "execute_result"
    }
   ],
   "source": [
    "sample_submission = pd.read_csv(\"./open/sample_submission.csv\")\n",
    "sample_submission.head()"
   ]
  },
  {
   "cell_type": "code",
   "execution_count": 5,
   "id": "b925d131",
   "metadata": {
    "scrolled": true
   },
   "outputs": [],
   "source": [
    "africa_train_data = np.load(\"./npy_data/africa_npy.npy\", allow_pickle = True)\n",
    "australia_train_data = np.load(\"./npy_data/australia_npy.npy\", allow_pickle = True)\n",
    "canada_train_data = np.load(\"./npy_data/canada_npy.npy\", allow_pickle = True)\n",
    "england_train_data = np.load(\"./npy_data/england_npy.npy\", allow_pickle = True)\n",
    "hongkong_train_data = np.load(\"./npy_data/hongkong_npy.npy\", allow_pickle = True)\n",
    "us_train_data = np.load(\"./npy_data/us_npy.npy\", allow_pickle = True)\n",
    "\n",
    "test_data = np.load(\"./npy_data/test_npy.npy\", allow_pickle = True)\n",
    "\n",
    "train_data_list = [africa_train_data, australia_train_data, canada_train_data, england_train_data, hongkong_train_data, us_train_data]"
   ]
  },
  {
   "cell_type": "code",
   "execution_count": 13,
   "id": "4a478a8e",
   "metadata": {},
   "outputs": [],
   "source": [
    "def get_mini(data):\n",
    "\n",
    "    mini = 9999999\n",
    "    for i in data:\n",
    "        if len(i) < mini:\n",
    "            mini = len(i)\n",
    "\n",
    "    return mini\n",
    "\n",
    "\n",
    "def set_length(data, d_mini):\n",
    "\n",
    "    result = []\n",
    "    for i in data:\n",
    "        result.append(i[:d_mini])\n",
    "    result = np.array(result)\n",
    "\n",
    "    return result\n",
    "\n",
    "\n",
    "def get_feature(data, sr = 16000, n_fft = 256, win_length = 200, hop_length = 160, n_mels = 64):\n",
    "    mel = []\n",
    "    for i in tqdm(data):\n",
    "        mel_ = librosa.feature.melspectrogram(i, sr = sr, n_fft = n_fft, win_length = win_length, hop_length = hop_length, n_mels = n_mels)\n",
    "        mel.append(mel_)\n",
    "    mel = np.array(mel)\n",
    "    mel = librosa.power_to_db(mel, ref = np.max)\n",
    "\n",
    "    mel_mean = mel.mean()\n",
    "    mel_std = mel.std()\n",
    "    mel = (mel - mel_mean) / mel_std\n",
    "\n",
    "    return mel"
   ]
  },
  {
   "cell_type": "code",
   "execution_count": 14,
   "id": "fa6f51ac",
   "metadata": {},
   "outputs": [
    {
     "name": "stderr",
     "output_type": "stream",
     "text": [
      "100%|███████████████████████████████████████████████████████████████████████████| 25520/25520 [02:11<00:00, 194.45it/s]\n",
      "100%|█████████████████████████████████████████████████████████████████████████████| 6100/6100 [00:22<00:00, 268.29it/s]\n"
     ]
    }
   ],
   "source": [
    "train_x = np.concatenate(train_data_list, axis= 0)\n",
    "test_x = np.array(test_data)\n",
    "\n",
    "train_mini = get_mini(train_x)\n",
    "test_mini = get_mini(test_x)\n",
    "\n",
    "mini = np.min([train_mini, test_mini])\n",
    "\n",
    "train_x = set_length(train_x, mini)\n",
    "test_x = set_length(test_x, mini)\n",
    "\n",
    "train_x = get_feature(data = train_x)\n",
    "test_x = get_feature(data = test_x)\n",
    "\n",
    "train_x = train_x.reshape(-1, train_x.shape[1], train_x.shape[2], 1)\n",
    "test_x = test_x.reshape(-1, test_x.shape[1], test_x.shape[2], 1)"
   ]
  },
  {
   "cell_type": "code",
   "execution_count": 6,
   "id": "685c050e",
   "metadata": {},
   "outputs": [],
   "source": [
    "train_y = np.concatenate((np.zeros(len(africa_train_data), dtype = np.int),\n",
    "                        np.ones(len(australia_train_data), dtype = np.int),\n",
    "                         np.ones(len(canada_train_data), dtype = np.int) * 2,\n",
    "                         np.ones(len(england_train_data), dtype = np.int) * 3,\n",
    "                         np.ones(len(hongkong_train_data), dtype = np.int) * 4,\n",
    "                         np.ones(len(us_train_data), dtype = np.int) * 5), axis = 0)\n",
    "np.save(\"./data/train_y_npy.npy\", train_y)"
   ]
  },
  {
   "cell_type": "code",
   "execution_count": 3,
   "id": "0ee3f180",
   "metadata": {},
   "outputs": [],
   "source": [
    "train_x = np.load(\"./data/train_x_npy.npy\", allow_pickle = True)\n",
    "train_y = np.load(\"./data/train_y_npy.npy\", allow_pickle = True)\n",
    "test_x = np.load(\"./data/test_x_npy.npy\", allow_pickle = True)"
   ]
  },
  {
   "cell_type": "code",
   "execution_count": 4,
   "id": "eb056ccf",
   "metadata": {},
   "outputs": [
    {
     "data": {
      "text/plain": [
       "((25520, 64, 501, 1), (25520,), (6100, 64, 501, 1))"
      ]
     },
     "execution_count": 4,
     "metadata": {},
     "output_type": "execute_result"
    }
   ],
   "source": [
    "train_x.shape, train_y.shape, test_x.shape"
   ]
  },
  {
   "cell_type": "code",
   "execution_count": 5,
   "id": "bd472ac2",
   "metadata": {},
   "outputs": [
    {
     "data": {
      "text/plain": [
       "array([18241,  2954,  9763, ..., 17188, 14450, 22304])"
      ]
     },
     "execution_count": 5,
     "metadata": {},
     "output_type": "execute_result"
    }
   ],
   "source": [
    "s = np.arange(train_x.shape[0])\n",
    "np.random.shuffle(s)\n",
    "s"
   ]
  },
  {
   "cell_type": "code",
   "execution_count": 6,
   "id": "7579c9cb",
   "metadata": {},
   "outputs": [],
   "source": [
    "train_x = train_x[s]\n",
    "train_y = train_y[s]\n",
    "np.random.shuffle(test_x)"
   ]
  },
  {
   "cell_type": "code",
   "execution_count": 7,
   "id": "5d8b0e76",
   "metadata": {},
   "outputs": [],
   "source": [
    "np.save(\"./data/train_x_shf.npy\", train_x)\n",
    "np.save(\"./data/train_y_shf.npy\", train_y)\n",
    "np.save(\"./data/test_x_shf.npy\", test_x)"
   ]
  },
  {
   "cell_type": "markdown",
   "id": "9223c0ad",
   "metadata": {},
   "source": [
    "## 2. frequency mask"
   ]
  },
  {
   "cell_type": "code",
   "execution_count": 1,
   "id": "e04c1007",
   "metadata": {},
   "outputs": [],
   "source": [
    "from audiomentations import SpecFrequencyMask\n",
    "import numpy as np"
   ]
  },
  {
   "cell_type": "code",
   "execution_count": 2,
   "id": "9df4c117",
   "metadata": {},
   "outputs": [
    {
     "data": {
      "text/plain": [
       "(25520, 64, 501, 1)"
      ]
     },
     "execution_count": 2,
     "metadata": {},
     "output_type": "execute_result"
    }
   ],
   "source": [
    "train_x_shf = np.load('./data/train_x_shf.npy', allow_pickle=True)\n",
    "train_x_shf.shape"
   ]
  },
  {
   "cell_type": "code",
   "execution_count": 3,
   "id": "3ebe637e",
   "metadata": {},
   "outputs": [],
   "source": [
    "mask = SpecFrequencyMask(p=0.5)"
   ]
  },
  {
   "cell_type": "code",
   "execution_count": 8,
   "id": "d60005b2",
   "metadata": {},
   "outputs": [
    {
     "data": {
      "text/plain": [
       "(25520, 64, 501, 1)"
      ]
     },
     "execution_count": 8,
     "metadata": {},
     "output_type": "execute_result"
    }
   ],
   "source": [
    "train_x_shf_mask = []\n",
    "for train_x in train_x_shf:\n",
    "    train_x_shf_mask.append(mask(train_x))\n",
    "train_x_shf_mask = np.array(train_x_shf_mask)\n",
    "train_x_shf_mask.shape"
   ]
  },
  {
   "cell_type": "code",
   "execution_count": 9,
   "id": "d59826a4",
   "metadata": {},
   "outputs": [],
   "source": [
    "np.save(\"./data/train_x_shf_mask.npy\", train_x_shf_mask)"
   ]
  },
  {
   "cell_type": "markdown",
   "id": "e55f8044",
   "metadata": {},
   "source": [
    "Untill now, I didn't use \"naming.pickle\" API <br>\n",
    "After this time, new version of spectrogram will be named by \"naming.pickle\" API"
   ]
  },
  {
   "cell_type": "markdown",
   "id": "77230c6d",
   "metadata": {},
   "source": [
    "## 3. add noise"
   ]
  },
  {
   "cell_type": "code",
   "execution_count": 3,
   "id": "8a868dc8",
   "metadata": {},
   "outputs": [],
   "source": [
    "from audiomentations import AddGaussianNoise"
   ]
  },
  {
   "cell_type": "code",
   "execution_count": 4,
   "id": "4b02a2e0",
   "metadata": {},
   "outputs": [],
   "source": [
    "def get_mini(data):\n",
    "    mini = 9999999\n",
    "    for i in data:\n",
    "        if len(i) < mini:\n",
    "            mini = len(i)\n",
    "    return mini\n",
    "\n",
    "def set_length(data, d_mini):\n",
    "    result = []\n",
    "    for i in data:\n",
    "        result.append(i[:d_mini])\n",
    "    result = np.array(result)\n",
    "    return result\n",
    "\n",
    "def get_feature(data, sr = 16000, n_fft = 256, win_length = 200, hop_length = 160, n_mels = 64):\n",
    "    mel = []\n",
    "    for i in tqdm(data):\n",
    "        mel_ = librosa.feature.melspectrogram(i, sr = sr, n_fft = n_fft, win_length = win_length, hop_length = hop_length, n_mels = n_mels)\n",
    "        mel.append(mel_)\n",
    "    mel = np.array(mel)\n",
    "    mel = librosa.power_to_db(mel, ref = np.max)\n",
    "\n",
    "    mel_mean = mel.mean()\n",
    "    mel_std = mel.std()\n",
    "    mel = (mel - mel_mean) / mel_std\n",
    "\n",
    "    return mel"
   ]
  },
  {
   "cell_type": "code",
   "execution_count": 5,
   "id": "3c905ac2",
   "metadata": {},
   "outputs": [],
   "source": [
    "africa_train_data = np.load(\"./RawData/africa_npy.npy\", allow_pickle = True)\n",
    "australia_train_data = np.load(\"./RawData/australia_npy.npy\", allow_pickle = True)\n",
    "canada_train_data = np.load(\"./RawData/canada_npy.npy\", allow_pickle = True)\n",
    "england_train_data = np.load(\"./RawData/england_npy.npy\", allow_pickle = True)\n",
    "hongkong_train_data = np.load(\"./RawData/hongkong_npy.npy\", allow_pickle = True)\n",
    "us_train_data = np.load(\"./RawData/us_npy.npy\", allow_pickle = True)\n",
    "\n",
    "train_data_list = [africa_train_data, australia_train_data, canada_train_data, england_train_data, hongkong_train_data, us_train_data]\n",
    "train_x = np.concatenate(train_data_list, axis= 0)\n",
    "\n",
    "test_x = np.load(\"./RawData/test_npy.npy\", allow_pickle = True)\n",
    "\n",
    "train_mini = get_mini(train_x)\n",
    "test_mini = get_mini(test_x)\n",
    "\n",
    "mini = np.min([train_mini, test_mini])\n",
    "\n",
    "train_x = set_length(train_x, mini)\n",
    "test_x = set_length(test_x, mini)"
   ]
  },
  {
   "cell_type": "code",
   "execution_count": 8,
   "id": "48bd501c",
   "metadata": {},
   "outputs": [
    {
     "data": {
      "text/plain": [
       "((25520, 80064), (6100, 80064))"
      ]
     },
     "execution_count": 8,
     "metadata": {},
     "output_type": "execute_result"
    }
   ],
   "source": [
    "train_x.shape, test_x.shape"
   ]
  },
  {
   "cell_type": "code",
   "execution_count": 12,
   "id": "9010042b",
   "metadata": {},
   "outputs": [
    {
     "data": {
      "text/plain": [
       "(0.7335644, -0.6974866, 8.164273e-05, 0.14039339)"
      ]
     },
     "execution_count": 12,
     "metadata": {},
     "output_type": "execute_result"
    }
   ],
   "source": [
    "train_x[0].max(), train_x[0].min(), train_x[0].mean(), train_x[0].std()"
   ]
  },
  {
   "cell_type": "code",
   "execution_count": 39,
   "id": "0a221a64",
   "metadata": {},
   "outputs": [],
   "source": [
    "# add noise\n",
    "noise = AddGaussianNoise(min_amplitude=0.001, max_amplitude=0.015, p=0.5)\n",
    "for i, x in enumerate(train_x):\n",
    "    train_x[i] = noise(x, 16000)"
   ]
  },
  {
   "cell_type": "code",
   "execution_count": 40,
   "id": "aecc2e48",
   "metadata": {},
   "outputs": [
    {
     "name": "stderr",
     "output_type": "stream",
     "text": [
      "100%|███████████████████████████████████████████████████████████████████████████| 25520/25520 [01:10<00:00, 363.07it/s]\n",
      "100%|█████████████████████████████████████████████████████████████████████████████| 6100/6100 [00:25<00:00, 237.10it/s]\n"
     ]
    }
   ],
   "source": [
    "# make spectrogram & train_y\n",
    "train_x = get_feature(data = train_x)\n",
    "test_x = get_feature(data = test_x)\n",
    "\n",
    "train_x = train_x.reshape(-1, train_x.shape[1], train_x.shape[2], 1)\n",
    "test_x = test_x.reshape(-1, test_x.shape[1], test_x.shape[2], 1)\n",
    "\n",
    "train_y = np.concatenate((np.zeros(len(africa_train_data), dtype = np.int),\n",
    "                        np.ones(len(australia_train_data), dtype = np.int),\n",
    "                         np.ones(len(canada_train_data), dtype = np.int) * 2,\n",
    "                         np.ones(len(england_train_data), dtype = np.int) * 3,\n",
    "                         np.ones(len(hongkong_train_data), dtype = np.int) * 4,\n",
    "                         np.ones(len(us_train_data), dtype = np.int) * 5), axis = 0)"
   ]
  },
  {
   "cell_type": "code",
   "execution_count": 41,
   "id": "adcd730e",
   "metadata": {},
   "outputs": [
    {
     "data": {
      "text/plain": [
       "((25520, 64, 501, 1), (6100, 64, 501, 1), (25520,))"
      ]
     },
     "execution_count": 41,
     "metadata": {},
     "output_type": "execute_result"
    }
   ],
   "source": [
    "train_x.shape, test_x.shape, train_y.shape"
   ]
  },
  {
   "cell_type": "code",
   "execution_count": 42,
   "id": "4bccd767",
   "metadata": {},
   "outputs": [],
   "source": [
    "# shuffle\n",
    "s = np.arange(train_x.shape[0])\n",
    "np.random.shuffle(s)\n",
    "train_x = train_x[s]\n",
    "train_y = train_y[s]"
   ]
  },
  {
   "cell_type": "code",
   "execution_count": 43,
   "id": "8b6ca1ec",
   "metadata": {},
   "outputs": [],
   "source": [
    "new_name = find_name()\n",
    "np.save(f\"./Spectrogram/train_x_{new_name}.npy\", train_x)\n",
    "np.save(f\"./Spectrogram/train_y_{new_name}.npy\", train_y)\n",
    "add_name(new_name, \"AddGaussianNoise(min_amplitude=0.001, max_amplitude=0.015, p=0.5)\")"
   ]
  },
  {
   "cell_type": "code",
   "execution_count": null,
   "id": "f0dcd831",
   "metadata": {},
   "outputs": [],
   "source": []
  }
 ],
 "metadata": {
  "kernelspec": {
   "display_name": "Python 3",
   "language": "python",
   "name": "python3"
  },
  "language_info": {
   "codemirror_mode": {
    "name": "ipython",
    "version": 3
   },
   "file_extension": ".py",
   "mimetype": "text/x-python",
   "name": "python",
   "nbconvert_exporter": "python",
   "pygments_lexer": "ipython3",
   "version": "3.9.1"
  }
 },
 "nbformat": 4,
 "nbformat_minor": 5
}
