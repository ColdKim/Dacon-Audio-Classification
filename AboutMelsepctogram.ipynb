{
 "cells": [
  {
   "cell_type": "code",
   "execution_count": 1,
   "id": "03f76ab4",
   "metadata": {},
   "outputs": [],
   "source": [
    "import pandas as pd\n",
    "import numpy as np\n",
    "import os\n",
    "import shutil\n",
    "from tqdm import tqdm\n",
    "from glob import glob\n",
    "import librosa\n",
    "import warnings\n",
    "\n",
    "warnings.filterwarnings(\"ignore\")"
   ]
  },
  {
   "cell_type": "code",
   "execution_count": 2,
   "id": "4cd82889",
   "metadata": {},
   "outputs": [],
   "source": [
    "X = np.load(\"./npy_data/africa_npy.npy\", allow_pickle = True)[:100]\n",
    "def get_mini(data):\n",
    "\n",
    "    mini = 9999999\n",
    "    for i in data:\n",
    "        if len(i) < mini:\n",
    "            mini = len(i)\n",
    "\n",
    "    return mini\n",
    "\n",
    "def set_length(data, d_mini):\n",
    "\n",
    "    result = []\n",
    "    for i in data:\n",
    "        result.append(i[:d_mini])\n",
    "    result = np.array(result)\n",
    "\n",
    "    return result\n",
    "X = set_length(X, get_mini(X))"
   ]
  },
  {
   "cell_type": "code",
   "execution_count": 3,
   "id": "b8c0d604",
   "metadata": {},
   "outputs": [
    {
     "data": {
      "text/plain": [
       "(100, 80256)"
      ]
     },
     "execution_count": 3,
     "metadata": {},
     "output_type": "execute_result"
    }
   ],
   "source": [
    "X.shape"
   ]
  },
  {
   "cell_type": "markdown",
   "id": "ca2f2c5b",
   "metadata": {},
   "source": [
    "#### 1. STFT의 결과로 나오는 shape 조사"
   ]
  },
  {
   "cell_type": "code",
   "execution_count": 37,
   "id": "c15774c2",
   "metadata": {
    "scrolled": true
   },
   "outputs": [
    {
     "data": {
      "text/plain": [
       "(2049, 79)"
      ]
     },
     "execution_count": 37,
     "metadata": {},
     "output_type": "execute_result"
    }
   ],
   "source": [
    "x = X[14]\n",
    "rst = librosa.stft(x, n_fft=4096, win_length = 4096, hop_length=1024)\n",
    "rst.shape"
   ]
  },
  {
   "cell_type": "code",
   "execution_count": 38,
   "id": "be47f362",
   "metadata": {},
   "outputs": [
    {
     "data": {
      "text/plain": [
       "(2049, 79)"
      ]
     },
     "execution_count": 38,
     "metadata": {},
     "output_type": "execute_result"
    }
   ],
   "source": [
    "rst = np.abs(rst)\n",
    "rst = librosa.power_to_db(rst, ref=np.max)\n",
    "rst.shape"
   ]
  },
  {
   "cell_type": "markdown",
   "id": "e84a73fa",
   "metadata": {},
   "source": [
    "y <- stft(data) <br>\n",
    "y[f,t] : magnitude of frequency bin \"f\" at frame \"t\" <br>\n",
    "n_fft : length of the FFT window"
   ]
  },
  {
   "cell_type": "markdown",
   "id": "a0d590a0",
   "metadata": {},
   "source": [
    "#### 2. Melspectogram 결과 조사"
   ]
  },
  {
   "cell_type": "code",
   "execution_count": 49,
   "id": "2999b804",
   "metadata": {},
   "outputs": [
    {
     "data": {
      "text/plain": [
       "((64, 79), (64, 79))"
      ]
     },
     "execution_count": 49,
     "metadata": {},
     "output_type": "execute_result"
    }
   ],
   "source": [
    "x = X[14]\n",
    "rst_1 = librosa.feature.melspectrogram(x, sr = 16000, n_fft=4096, win_length = 4096, hop_length=1024, n_mels = 64)\n",
    "rst_2 = librosa.feature.melspectrogram(x, sr = 16000, n_fft=2048, win_length = 2048, hop_length=1024, n_mels = 64)\n",
    "rst_1.shape, rst_2.shape"
   ]
  },
  {
   "cell_type": "code",
   "execution_count": 47,
   "id": "2530f83e",
   "metadata": {},
   "outputs": [
    {
     "data": {
      "text/plain": [
       "((64, 79), (64, 79))"
      ]
     },
     "execution_count": 47,
     "metadata": {},
     "output_type": "execute_result"
    }
   ],
   "source": [
    "x = X[14]\n",
    "rst_1 = librosa.feature.melspectrogram(x, sr = 16000, n_fft=4096, win_length = 4096, hop_length=1024, n_mels = 64)\n",
    "rst_2 = librosa.feature.melspectrogram(x, sr = 16000, n_fft=4096, win_length = 2048, hop_length=1024, n_mels = 64)\n",
    "rst_1.shape, rst_2.shape"
   ]
  },
  {
   "cell_type": "code",
   "execution_count": 48,
   "id": "4fe1994a",
   "metadata": {},
   "outputs": [
    {
     "data": {
      "text/plain": [
       "((64, 157), (64, 79))"
      ]
     },
     "execution_count": 48,
     "metadata": {},
     "output_type": "execute_result"
    }
   ],
   "source": [
    "x = X[14]\n",
    "rst_1 = librosa.feature.melspectrogram(x, sr = 16000, n_fft=4096, win_length = 4096, hop_length=512, n_mels = 64)\n",
    "rst_2 = librosa.feature.melspectrogram(x, sr = 16000, n_fft=4096, win_length = 4096, hop_length=1024, n_mels = 64)\n",
    "rst_1.shape, rst_2.shape"
   ]
  },
  {
   "cell_type": "markdown",
   "id": "3ebf7d3a",
   "metadata": {},
   "source": [
    "y <- melspectogram(data) <br>\n",
    "y.shape = (n_mels, length of frames) <br>\n",
    "\"length of frames\" is only affected by \"hop_length\""
   ]
  },
  {
   "cell_type": "markdown",
   "id": "ae8fb29e",
   "metadata": {},
   "source": [
    "#### 3. Audio augmentation"
   ]
  },
  {
   "cell_type": "code",
   "execution_count": 4,
   "id": "0eb26322",
   "metadata": {},
   "outputs": [
    {
     "data": {
      "text/plain": [
       "(64, 79)"
      ]
     },
     "execution_count": 4,
     "metadata": {},
     "output_type": "execute_result"
    }
   ],
   "source": [
    "x = X[14]\n",
    "rst = librosa.feature.melspectrogram(x, sr = 16000, n_fft=4096, win_length = 4096, hop_length=1024, n_mels = 64)\n",
    "rst.shape"
   ]
  },
  {
   "cell_type": "code",
   "execution_count": 7,
   "id": "f747544c",
   "metadata": {},
   "outputs": [
    {
     "data": {
      "text/plain": [
       "(4.9612834e-09, 2634.313)"
      ]
     },
     "execution_count": 7,
     "metadata": {},
     "output_type": "execute_result"
    }
   ],
   "source": [
    "rst.min(), rst.max()"
   ]
  },
  {
   "cell_type": "code",
   "execution_count": 44,
   "id": "3a0c403b",
   "metadata": {},
   "outputs": [
    {
     "name": "stdout",
     "output_type": "stream",
     "text": [
      "This is TMP class\n",
      "This is Base call method : {'set_Base': True, 'set_TMP': True}\n",
      "This is TMP apply method : {'set_Base': True, 'set_TMP': True}\n"
     ]
    }
   ],
   "source": [
    "class Base():\n",
    "    def __init__(self):\n",
    "        self.param = {}\n",
    "    \n",
    "    def set_param(self):\n",
    "        self.param['set_Base'] = True\n",
    "        \n",
    "    def __call__(self, x):\n",
    "        self.set_param()\n",
    "        print(f'This is {self.__class__.__name__} class')\n",
    "        print(f'This is Base call method : {self.param}')\n",
    "        self.apply(x)\n",
    "        \n",
    "    def apply(self, x):\n",
    "        raise NotImplementedError\n",
    "        \n",
    "class TMP(Base):\n",
    "    def __init__(self):\n",
    "        super().__init__()\n",
    "\n",
    "    def set_param(self):\n",
    "        super().set_param() ## If you want to execute method of super class, you need to write \"super().~~\"\n",
    "        self.param['set_TMP'] = True\n",
    "        \n",
    "    def apply(self, x):\n",
    "        print(f'This is TMP apply method : {self.param}')\n",
    "        \n",
    "a = TMP()\n",
    "a(None)"
   ]
  },
  {
   "cell_type": "code",
   "execution_count": null,
   "id": "8ab2f360",
   "metadata": {},
   "outputs": [],
   "source": []
  }
 ],
 "metadata": {
  "kernelspec": {
   "display_name": "Python 3",
   "language": "python",
   "name": "python3"
  },
  "language_info": {
   "codemirror_mode": {
    "name": "ipython",
    "version": 3
   },
   "file_extension": ".py",
   "mimetype": "text/x-python",
   "name": "python",
   "nbconvert_exporter": "python",
   "pygments_lexer": "ipython3",
   "version": "3.9.1"
  }
 },
 "nbformat": 4,
 "nbformat_minor": 5
}
